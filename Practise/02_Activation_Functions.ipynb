{
 "cells": [
  {
   "cell_type": "code",
   "execution_count": 1,
   "id": "53ea2e2c-4eeb-45d6-addb-550235da1f30",
   "metadata": {},
   "outputs": [],
   "source": [
    "# Importing libararies for neural network\n",
    "\n",
    "import tensorflow as tf\n",
    "from tensorflow import keras\n",
    "\n",
    "# Importing libararies for data manipulation\n",
    "\n",
    "import pandas as pd\n",
    "import numpy as np\n",
    "\n",
    "# Importing libraries for data visualization\n",
    "\n",
    "import matplotlib.pyplot as plt\n",
    "import seaborn as sns\n",
    "%matplotlib inline"
   ]
  },
  {
   "cell_type": "markdown",
   "id": "a28c88bd-2811-47f8-b283-2cfcac997c3b",
   "metadata": {},
   "source": [
    "Activation Functions\n",
    "\n",
    "1. Sigmoid -> 1/ (1+e**(-z))  -> 0 to 1\n",
    "2. tanh -> (e**(-z) - e**z)/ (e**(z) + e**(-z)) -> -1 to 1\n",
    "3. relu -> max(0, x) -> always use it, when you don't know what to use.\n",
    "4. leaky relu -> max(0.1*x, x)\n",
    "\n",
    "vanishing gradients problem -> When derivates are close to zero, the learning becomes very slow.\n"
   ]
  },
  {
   "cell_type": "code",
   "execution_count": 5,
   "id": "e7a42358-ede4-4878-ab24-ad41e1130c83",
   "metadata": {},
   "outputs": [],
   "source": [
    "import math\n",
    "\n",
    "def sigmoid(x):\n",
    "    return 1 / (1 + math.exp(-x) )"
   ]
  },
  {
   "cell_type": "code",
   "execution_count": 6,
   "id": "8277a05d-f2a7-4d41-a220-cf72dc5ef203",
   "metadata": {},
   "outputs": [
    {
     "data": {
      "text/plain": [
       "1.0"
      ]
     },
     "execution_count": 6,
     "metadata": {},
     "output_type": "execute_result"
    }
   ],
   "source": [
    "sigmoid(100)"
   ]
  },
  {
   "cell_type": "code",
   "execution_count": 7,
   "id": "232a31a2-1fb1-4f08-976f-0a04a4cdf8f1",
   "metadata": {},
   "outputs": [
    {
     "data": {
      "text/plain": [
       "0.7310585786300049"
      ]
     },
     "execution_count": 7,
     "metadata": {},
     "output_type": "execute_result"
    }
   ],
   "source": [
    "sigmoid(1)"
   ]
  },
  {
   "cell_type": "code",
   "execution_count": 8,
   "id": "45966e98-56bc-4846-9246-7f49c60ab4ff",
   "metadata": {},
   "outputs": [
    {
     "data": {
      "text/plain": [
       "0.2689414213699951"
      ]
     },
     "execution_count": 8,
     "metadata": {},
     "output_type": "execute_result"
    }
   ],
   "source": [
    "sigmoid(-1)"
   ]
  },
  {
   "cell_type": "code",
   "execution_count": 9,
   "id": "7d47f551-a6f9-494e-9d73-34457268b373",
   "metadata": {},
   "outputs": [
    {
     "data": {
      "text/plain": [
       "0.6224593312018546"
      ]
     },
     "execution_count": 9,
     "metadata": {},
     "output_type": "execute_result"
    }
   ],
   "source": [
    "sigmoid(0.5)"
   ]
  },
  {
   "cell_type": "code",
   "execution_count": 12,
   "id": "d7729582-237d-4bbc-90c4-fdeb46b013ef",
   "metadata": {},
   "outputs": [],
   "source": [
    "def tanh(z):\n",
    "    return (math.exp(z) - math.exp(-z)) / (math.exp(z) + math.exp(-z))"
   ]
  },
  {
   "cell_type": "code",
   "execution_count": 13,
   "id": "a581933d-6f78-4478-be2d-281764618681",
   "metadata": {},
   "outputs": [
    {
     "data": {
      "text/plain": [
       "-1.0"
      ]
     },
     "execution_count": 13,
     "metadata": {},
     "output_type": "execute_result"
    }
   ],
   "source": [
    "tanh(-56)"
   ]
  },
  {
   "cell_type": "code",
   "execution_count": 14,
   "id": "fe995000-db0f-4555-9cfe-60911fe50cd3",
   "metadata": {},
   "outputs": [
    {
     "data": {
      "text/plain": [
       "-1.0"
      ]
     },
     "execution_count": 14,
     "metadata": {},
     "output_type": "execute_result"
    }
   ],
   "source": [
    "tanh(-100)"
   ]
  },
  {
   "cell_type": "code",
   "execution_count": 15,
   "id": "4499f9c1-5141-4732-aa90-96f7c8131f06",
   "metadata": {},
   "outputs": [],
   "source": [
    "def relu(x):\n",
    "    return 0 if (x < 0) else x"
   ]
  },
  {
   "cell_type": "code",
   "execution_count": 16,
   "id": "aca7f794-a7ac-46e1-b98d-8db50849d5c6",
   "metadata": {},
   "outputs": [
    {
     "data": {
      "text/plain": [
       "100"
      ]
     },
     "execution_count": 16,
     "metadata": {},
     "output_type": "execute_result"
    }
   ],
   "source": [
    "relu(100)"
   ]
  },
  {
   "cell_type": "code",
   "execution_count": 17,
   "id": "2a9094bc-1fb0-417a-a7a1-dfde1d81c76a",
   "metadata": {},
   "outputs": [
    {
     "data": {
      "text/plain": [
       "0"
      ]
     },
     "execution_count": 17,
     "metadata": {},
     "output_type": "execute_result"
    }
   ],
   "source": [
    "relu(-100)"
   ]
  },
  {
   "cell_type": "code",
   "execution_count": 19,
   "id": "7aa55680-a0d4-4a40-8bdc-a8271dd91768",
   "metadata": {},
   "outputs": [],
   "source": [
    "def leaky_relu(x):\n",
    "    return 0.1*x if (0.1*x > x) else x"
   ]
  },
  {
   "cell_type": "code",
   "execution_count": 20,
   "id": "252ab65c-727d-46b3-890f-54faa2c0a72a",
   "metadata": {},
   "outputs": [
    {
     "data": {
      "text/plain": [
       "100"
      ]
     },
     "execution_count": 20,
     "metadata": {},
     "output_type": "execute_result"
    }
   ],
   "source": [
    "leaky_relu(100)"
   ]
  },
  {
   "cell_type": "code",
   "execution_count": 21,
   "id": "08628a6f-a724-4cd2-a7c5-65b61f5155fe",
   "metadata": {},
   "outputs": [
    {
     "data": {
      "text/plain": [
       "-10.0"
      ]
     },
     "execution_count": 21,
     "metadata": {},
     "output_type": "execute_result"
    }
   ],
   "source": [
    "leaky_relu(-100)"
   ]
  },
  {
   "cell_type": "code",
   "execution_count": 22,
   "id": "4db951c3-88ae-4b1e-90c3-8b0fa5cc1ef7",
   "metadata": {},
   "outputs": [
    {
     "data": {
      "text/plain": [
       "-40.0"
      ]
     },
     "execution_count": 22,
     "metadata": {},
     "output_type": "execute_result"
    }
   ],
   "source": [
    "leaky_relu(-400)"
   ]
  },
  {
   "cell_type": "code",
   "execution_count": null,
   "id": "bf213a7a-2021-475d-ae70-0dd6604fe71f",
   "metadata": {},
   "outputs": [],
   "source": []
  }
 ],
 "metadata": {
  "kernelspec": {
   "display_name": "Python 3 (ipykernel)",
   "language": "python",
   "name": "python3"
  },
  "language_info": {
   "codemirror_mode": {
    "name": "ipython",
    "version": 3
   },
   "file_extension": ".py",
   "mimetype": "text/x-python",
   "name": "python",
   "nbconvert_exporter": "python",
   "pygments_lexer": "ipython3",
   "version": "3.8.2"
  }
 },
 "nbformat": 4,
 "nbformat_minor": 5
}
