{
 "cells": [
  {
   "cell_type": "code",
   "execution_count": 1,
   "id": "47f9f832-b05f-4c53-af54-3ae3e34e347a",
   "metadata": {},
   "outputs": [],
   "source": [
    "import numpy as np"
   ]
  },
  {
   "cell_type": "code",
   "execution_count": 3,
   "id": "17500ecc-88d5-492b-8f9c-4803eb43aecc",
   "metadata": {},
   "outputs": [],
   "source": [
    "revenue = np.array([[180,200,220], [24,36,40], [12,18,20]])\n",
    "expenses = np.array([[80,90,100], [10,16,20], [8,10,10]])"
   ]
  },
  {
   "cell_type": "code",
   "execution_count": 4,
   "id": "0476375b-76b3-4218-af20-b323e95e91dc",
   "metadata": {},
   "outputs": [
    {
     "data": {
      "text/plain": [
       "array([[100, 110, 120],\n",
       "       [ 14,  20,  20],\n",
       "       [  4,   8,  10]])"
      ]
     },
     "execution_count": 4,
     "metadata": {},
     "output_type": "execute_result"
    }
   ],
   "source": [
    "profit = revenue - expenses\n",
    "profit"
   ]
  },
  {
   "cell_type": "code",
   "execution_count": 18,
   "id": "2799609e-3f7f-47f6-b4bd-b92647566b9f",
   "metadata": {},
   "outputs": [],
   "source": [
    "price_per_unit = np.array([1000, 400, 1200])\n",
    "units_sold = np.array([[30,40,50], [5,10,15], [2,5,7]])"
   ]
  },
  {
   "cell_type": "code",
   "execution_count": 8,
   "id": "755f48f0-cfaa-4c77-9dbe-38b6116cb88a",
   "metadata": {},
   "outputs": [
    {
     "data": {
      "text/plain": [
       "array([[30000, 16000, 60000],\n",
       "       [ 5000,  4000, 18000],\n",
       "       [ 2000,  2000,  8400]])"
      ]
     },
     "execution_count": 8,
     "metadata": {},
     "output_type": "execute_result"
    }
   ],
   "source": [
    "price_per_unit*units_sold                       #Broad casting in numpy"
   ]
  },
  {
   "cell_type": "code",
   "execution_count": 19,
   "id": "2958342c-2111-4169-9d30-a72e7ab9164a",
   "metadata": {},
   "outputs": [
    {
     "data": {
      "text/plain": [
       "array([106000,  27000,  12400])"
      ]
     },
     "execution_count": 19,
     "metadata": {},
     "output_type": "execute_result"
    }
   ],
   "source": [
    "np.dot(units_sold, price_per_unit)"
   ]
  },
  {
   "cell_type": "code",
   "execution_count": 10,
   "id": "7f5c07bf-f931-48ba-bbf8-10f74915d972",
   "metadata": {},
   "outputs": [
    {
     "data": {
      "text/plain": [
       "array([[200, 220, 250],\n",
       "       [ 68,  79, 105],\n",
       "       [110, 140, 180],\n",
       "       [ 80,  85,  90]])"
      ]
     },
     "execution_count": 10,
     "metadata": {},
     "output_type": "execute_result"
    }
   ],
   "source": [
    "revenue_sales_in_dollars = np.array([[200, 220, 250],[68, 79, 105],[110, 140,180],[80, 85, 90]])\n",
    "revenue_sales_in_dollars"
   ]
  },
  {
   "cell_type": "code",
   "execution_count": 13,
   "id": "a3b96c9f-ef00-4fa7-b824-3e557b6aa008",
   "metadata": {},
   "outputs": [
    {
     "data": {
      "text/plain": [
       "array([[15000, 16500, 18750],\n",
       "       [ 5100,  5925,  7875],\n",
       "       [ 8250, 10500, 13500],\n",
       "       [ 6000,  6375,  6750]])"
      ]
     },
     "execution_count": 13,
     "metadata": {},
     "output_type": "execute_result"
    }
   ],
   "source": [
    "revenue_sales_in_rupees = revenue_sales_in_dollars*75\n",
    "revenue_sales_in_rupees"
   ]
  },
  {
   "cell_type": "code",
   "execution_count": 14,
   "id": "9efed278-268b-4d85-8143-c6c9ccbdcbf2",
   "metadata": {},
   "outputs": [
    {
     "data": {
      "text/plain": [
       "array([[50, 10, 40],\n",
       "       [60, 13, 70],\n",
       "       [25,  5, 52]])"
      ]
     },
     "execution_count": 14,
     "metadata": {},
     "output_type": "execute_result"
    }
   ],
   "source": [
    "units_sold_each_month = np.array([[50, 10, 40], [60, 13, 70], [25, 5, 52]])\n",
    "units_sold_each_month"
   ]
  },
  {
   "cell_type": "code",
   "execution_count": 21,
   "id": "f3f3d45a-770e-4333-be4a-f3bed71e98df",
   "metadata": {},
   "outputs": [
    {
     "data": {
      "text/plain": [
       "array([20, 30, 15])"
      ]
     },
     "execution_count": 21,
     "metadata": {},
     "output_type": "execute_result"
    }
   ],
   "source": [
    "price_per_unit = np.array([20, 30, 15])\n",
    "price_per_unit"
   ]
  },
  {
   "cell_type": "code",
   "execution_count": 22,
   "id": "9690772b-06c3-42be-882b-3edf7fd44a65",
   "metadata": {},
   "outputs": [
    {
     "data": {
      "text/plain": [
       "array([1900, 2640, 1430])"
      ]
     },
     "execution_count": 22,
     "metadata": {},
     "output_type": "execute_result"
    }
   ],
   "source": [
    "revenue_each_month = np.dot(units_sold_each_month, price_per_unit)\n",
    "revenue_each_month"
   ]
  },
  {
   "cell_type": "code",
   "execution_count": null,
   "id": "36d2e277-cf6c-46a0-a4e5-43504846c4ee",
   "metadata": {},
   "outputs": [],
   "source": []
  }
 ],
 "metadata": {
  "kernelspec": {
   "display_name": "Python 3 (ipykernel)",
   "language": "python",
   "name": "python3"
  },
  "language_info": {
   "codemirror_mode": {
    "name": "ipython",
    "version": 3
   },
   "file_extension": ".py",
   "mimetype": "text/x-python",
   "name": "python",
   "nbconvert_exporter": "python",
   "pygments_lexer": "ipython3",
   "version": "3.8.2"
  }
 },
 "nbformat": 4,
 "nbformat_minor": 5
}
