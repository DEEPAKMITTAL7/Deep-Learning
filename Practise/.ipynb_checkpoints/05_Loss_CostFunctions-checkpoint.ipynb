{
 "cells": [
  {
   "cell_type": "markdown",
   "id": "43d9a780-df45-4eae-ac62-d534480976e1",
   "metadata": {},
   "source": [
    "erros = error1 + error2 + error3 + ...................... + error10\n",
    "\n",
    "one error is loss."
   ]
  },
  {
   "cell_type": "markdown",
   "id": "72715b6c-171b-48d0-86af-22178454bfde",
   "metadata": {},
   "source": [
    "cost functions\n",
    "\n",
    "1. MAE\n",
    "2. MSE\n",
    "3. log loss\n",
    "\n",
    "We use log loss for the logistric regression."
   ]
  },
  {
   "cell_type": "code",
   "execution_count": 2,
   "id": "29361888-c85c-48e7-b43f-59c812e58d50",
   "metadata": {},
   "outputs": [],
   "source": [
    "import numpy as np"
   ]
  },
  {
   "cell_type": "code",
   "execution_count": 21,
   "id": "9e5575cc-989b-4404-868a-03a8d8c92171",
   "metadata": {},
   "outputs": [],
   "source": [
    "y_predicted = np.array([1, 1, 0, 0, 1])\n",
    "y_true = np.array([0.3, 0.7, 1, 0, 0.5])"
   ]
  },
  {
   "cell_type": "code",
   "execution_count": 16,
   "id": "b74fe77c-c203-4380-a0c5-2e265f2ae895",
   "metadata": {},
   "outputs": [],
   "source": [
    "def mae(y_predicted, y_true):\n",
    "    summ = 0\n",
    "    for x,y in zip(y_predicted, y_true):\n",
    "        summ = summ + abs(x-y)\n",
    "    print(\"MAE\")\n",
    "    return summ/len(y_predicted)"
   ]
  },
  {
   "cell_type": "code",
   "execution_count": 17,
   "id": "f1821be1-7839-4cc6-8f4c-9c3db1f387a1",
   "metadata": {},
   "outputs": [
    {
     "name": "stdout",
     "output_type": "stream",
     "text": [
      "MAE\n"
     ]
    },
    {
     "data": {
      "text/plain": [
       "0.5"
      ]
     },
     "execution_count": 17,
     "metadata": {},
     "output_type": "execute_result"
    }
   ],
   "source": [
    "mae(y_predicted, y_true)"
   ]
  },
  {
   "cell_type": "code",
   "execution_count": 22,
   "id": "1f3dffa4-b676-4263-9539-c822e0806c24",
   "metadata": {},
   "outputs": [
    {
     "data": {
      "text/plain": [
       "0.5"
      ]
     },
     "execution_count": 22,
     "metadata": {},
     "output_type": "execute_result"
    }
   ],
   "source": [
    "np.mean(np.abs(y_predicted - y_true))                     #MAE"
   ]
  },
  {
   "cell_type": "code",
   "execution_count": 25,
   "id": "a9cff7d8-1913-434c-a4f3-fe6ad96e4488",
   "metadata": {},
   "outputs": [
    {
     "data": {
      "text/plain": [
       "0.366"
      ]
     },
     "execution_count": 25,
     "metadata": {},
     "output_type": "execute_result"
    }
   ],
   "source": [
    "np.mean((y_predicted - y_true)**2)                       #MSE"
   ]
  },
  {
   "cell_type": "code",
   "execution_count": 33,
   "id": "f5e264a0-8ba4-4531-a650-2adddedcdd60",
   "metadata": {},
   "outputs": [
    {
     "data": {
      "text/plain": [
       "array([2.30258509])"
      ]
     },
     "execution_count": 33,
     "metadata": {},
     "output_type": "execute_result"
    }
   ],
   "source": [
    "np.log([10])"
   ]
  },
  {
   "cell_type": "code",
   "execution_count": 38,
   "id": "89296895-d517-41d2-84fc-ffe919d7984f",
   "metadata": {},
   "outputs": [
    {
     "data": {
      "text/plain": [
       "array([-32.2361913])"
      ]
     },
     "execution_count": 38,
     "metadata": {},
     "output_type": "execute_result"
    }
   ],
   "source": [
    "np.log([0.00000000000001])"
   ]
  },
  {
   "cell_type": "code",
   "execution_count": 39,
   "id": "e6fb2304-67e9-4ac7-a5aa-121fd22c55bf",
   "metadata": {},
   "outputs": [
    {
     "data": {
      "text/plain": [
       "array([-9.99977878e-13])"
      ]
     },
     "execution_count": 39,
     "metadata": {},
     "output_type": "execute_result"
    }
   ],
   "source": [
    "np.log([0.999999999999])"
   ]
  },
  {
   "cell_type": "code",
   "execution_count": 54,
   "id": "f55918fa-7472-4f49-809a-aafab085d9fa",
   "metadata": {},
   "outputs": [
    {
     "data": {
      "text/plain": [
       "array([1.e+00, 1.e+00, 1.e-15, 1.e-15, 1.e+00])"
      ]
     },
     "execution_count": 54,
     "metadata": {},
     "output_type": "execute_result"
    }
   ],
   "source": [
    "y_predict = [abs((1e-15)-i) if i in [0,1] else i for i in y_predicted]\n",
    "y_predict = np.array(y_predict)\n",
    "y_predict"
   ]
  },
  {
   "cell_type": "code",
   "execution_count": 55,
   "id": "b3908f75-1d1a-4d9d-9421-c421f3d58b66",
   "metadata": {},
   "outputs": [
    {
     "data": {
      "text/plain": [
       "array([3.e-01, 7.e-01, 1.e+00, 1.e-15, 5.e-01])"
      ]
     },
     "execution_count": 55,
     "metadata": {},
     "output_type": "execute_result"
    }
   ],
   "source": [
    "y_truth = [abs((1e-15)-i) if i in [0,1] else i for i in y_true]\n",
    "y_truth = np.array(y_truth)\n",
    "y_truth"
   ]
  },
  {
   "cell_type": "code",
   "execution_count": 56,
   "id": "2cf2ec42-ee20-4685-94ab-80441915dad6",
   "metadata": {},
   "outputs": [
    {
     "data": {
      "text/plain": [
       "array([-9.99200722e-16, -9.99200722e-16, -3.45387764e+01, -3.45387764e+01,\n",
       "       -9.99200722e-16])"
      ]
     },
     "execution_count": 56,
     "metadata": {},
     "output_type": "execute_result"
    }
   ],
   "source": [
    "np.log(y_predict)"
   ]
  },
  {
   "cell_type": "code",
   "execution_count": 58,
   "id": "8ab905fb-b4a2-4c5f-b490-c9822b519cc8",
   "metadata": {},
   "outputs": [
    {
     "data": {
      "text/plain": [
       "17.269628076684402"
      ]
     },
     "execution_count": 58,
     "metadata": {},
     "output_type": "execute_result"
    }
   ],
   "source": [
    "-(np.mean( y_truth*np.log(y_predict) + (1-y_truth) * (np.log(1-y_predict)) ) )         # log loss"
   ]
  },
  {
   "cell_type": "code",
   "execution_count": null,
   "id": "7bd2eeb8-7708-419b-8c22-4ebf9e4e9b1b",
   "metadata": {},
   "outputs": [],
   "source": []
  }
 ],
 "metadata": {
  "kernelspec": {
   "display_name": "Python 3 (ipykernel)",
   "language": "python",
   "name": "python3"
  },
  "language_info": {
   "codemirror_mode": {
    "name": "ipython",
    "version": 3
   },
   "file_extension": ".py",
   "mimetype": "text/x-python",
   "name": "python",
   "nbconvert_exporter": "python",
   "pygments_lexer": "ipython3",
   "version": "3.8.2"
  }
 },
 "nbformat": 4,
 "nbformat_minor": 5
}
