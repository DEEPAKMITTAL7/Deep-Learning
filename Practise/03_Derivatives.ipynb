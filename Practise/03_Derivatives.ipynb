{
 "cells": [
  {
   "cell_type": "markdown",
   "id": "69ed009f-c1a6-4952-b1ff-cdd1775083d5",
   "metadata": {},
   "source": [
    "Slope\n",
    "\n",
    "1. It is a used for a linear equation\n",
    "\n",
    "2. it is a constant"
   ]
  },
  {
   "cell_type": "markdown",
   "id": "2942669d-7363-487a-896e-f44e158ab0a2",
   "metadata": {},
   "source": [
    "Derivative\n",
    "\n",
    "1. It is used for non linear equation\n",
    "\n",
    "2. It is a function"
   ]
  },
  {
   "cell_type": "markdown",
   "id": "e3cfb48e-361c-45fc-9bf0-05882216ea93",
   "metadata": {},
   "source": [
    "Derivatives help us to identify the weights reducing the errors."
   ]
  },
  {
   "cell_type": "code",
   "execution_count": null,
   "id": "42894567-3023-4c4c-821d-e446da5be2fc",
   "metadata": {},
   "outputs": [],
   "source": []
  }
 ],
 "metadata": {
  "kernelspec": {
   "display_name": "Python 3 (ipykernel)",
   "language": "python",
   "name": "python3"
  },
  "language_info": {
   "codemirror_mode": {
    "name": "ipython",
    "version": 3
   },
   "file_extension": ".py",
   "mimetype": "text/x-python",
   "name": "python",
   "nbconvert_exporter": "python",
   "pygments_lexer": "ipython3",
   "version": "3.8.2"
  }
 },
 "nbformat": 4,
 "nbformat_minor": 5
}
